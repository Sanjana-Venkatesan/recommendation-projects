{
  "nbformat": 4,
  "nbformat_minor": 0,
  "metadata": {
    "colab": {
      "provenance": [],
      "cell_execution_strategy": "setup"
    },
    "kernelspec": {
      "name": "python3",
      "display_name": "Python 3"
    },
    "language_info": {
      "name": "python"
    }
  },
  "cells": [
    {
      "cell_type": "code",
      "source": [
        "!pip install -q -U google-generativeai"
      ],
      "metadata": {
        "id": "js4avsOhQSkb"
      },
      "execution_count": null,
      "outputs": []
    },
    {
      "cell_type": "code",
      "source": [
        "import google.generativeai as genai\n",
        "from google.colab import userdata\n",
        "from IPython.display import display\n",
        "from IPython.display import Markdown\n",
        "import PIL.Image"
      ],
      "metadata": {
        "id": "hdbvcbPSWtJG"
      },
      "execution_count": null,
      "outputs": []
    },
    {
      "cell_type": "code",
      "source": [
        "from google.colab import userdata\n",
        "import os"
      ],
      "metadata": {
        "id": "0ilsrrfeWwEM"
      },
      "execution_count": null,
      "outputs": []
    },
    {
      "cell_type": "code",
      "source": [
        "genai.configure(api_key=userdata.get('GOOGLE_API_KEY'))"
      ],
      "metadata": {
        "id": "b9yj_NzJWzRn"
      },
      "execution_count": null,
      "outputs": []
    },
    {
      "cell_type": "code",
      "source": [
        "\n",
        "for m in genai.list_models():\n",
        "  if 'generateContent' in m.supported_generation_methods:\n",
        "    print(m.name)"
      ],
      "metadata": {
        "id": "jAV4m6UTW6Ow"
      },
      "execution_count": null,
      "outputs": []
    },
    {
      "cell_type": "code",
      "source": [
        "import requests\n",
        "from PIL import Image\n",
        "from io import BytesIO\n",
        "\n",
        "url = 'https://www.esa.int/var/esa/storage/images/esa_multimedia/images/2017/11/autumn_fireball/17255671-1-eng-GB/Autumn_fireball.jpg'\n",
        "response = requests.get(url)\n",
        "if response.status_code == 200:\n",
        "    image_data = response.content\n",
        "\n",
        "    image = Image.open(BytesIO(image_data))\n",
        "\n",
        "    image.show()\n",
        "else:\n",
        "    print('Failed to fetch the image. Status code:', response.status_code)"
      ],
      "metadata": {
        "id": "_mtCp2EJYW50"
      },
      "execution_count": null,
      "outputs": []
    },
    {
      "cell_type": "code",
      "source": [
        "\n",
        "vision_model = genai.GenerativeModel('gemini-pro-vision')\n",
        "response = vision_model.generate_content([\"what is shown in the image?\",image])\n",
        "print(response.text)\n"
      ],
      "metadata": {
        "id": "mfrQxOzUXTlY"
      },
      "execution_count": null,
      "outputs": []
    },
    {
      "cell_type": "code",
      "source": [
        "!pip install -U --quiet langchain-google-genai pillow\n"
      ],
      "metadata": {
        "id": "kHhpMQfUZAbR"
      },
      "execution_count": null,
      "outputs": []
    },
    {
      "cell_type": "code",
      "source": [
        "from langchain_google_genai import ChatGoogleGenerativeAI\n",
        "\n",
        "from langchain_core.messages import HumanMessage\n",
        "from langchain_google_genai import ChatGoogleGenerativeAI\n"
      ],
      "metadata": {
        "id": "y0HVQNJQZZQ_"
      },
      "execution_count": null,
      "outputs": []
    },
    {
      "cell_type": "code",
      "source": [
        "llm = ChatGoogleGenerativeAI(model=\"gemini-pro-vision\",google_api_key=userdata.get('GOOGLE_API_KEY'))\n"
      ],
      "metadata": {
        "id": "4YzVrCUjZcAG"
      },
      "execution_count": null,
      "outputs": []
    },
    {
      "cell_type": "code",
      "source": [
        "hmessage1 = HumanMessage(\n",
        "    content=[\n",
        "        {\n",
        "            \"type\": \"text\",\n",
        "            \"text\": \"Generate a book recommendation that match the content of the uploaded image.explain why that book was chosen and how it relates to the given image in 5 words\"\n",
        "        },\n",
        "        {\"type\": \"image_url\",\n",
        "         \"image_url\": image},\n",
        "    ]\n",
        ")\n",
        "message1 = llm.invoke([hmessage1])\n",
        "print(message1.content)\n"
      ],
      "metadata": {
        "id": "8u58bonqZd7E"
      },
      "execution_count": null,
      "outputs": []
    },
    {
      "cell_type": "code",
      "source": [
        "def generate_recommendation(llm=llm,hmessage=hmessage1,image=image):\n",
        "  msg=llm.invoke([hmessage1])\n",
        "  return msg.content\n"
      ],
      "metadata": {
        "id": "7Sg5Io7tZ7uT"
      },
      "execution_count": null,
      "outputs": []
    },
    {
      "cell_type": "code",
      "source": [
        "generate_recommendation(llm,hmessage1,image)"
      ],
      "metadata": {
        "id": "1ZgcpqDkes-Q"
      },
      "execution_count": null,
      "outputs": []
    },
    {
      "cell_type": "code",
      "source": [],
      "metadata": {
        "id": "uMpOqRT9e6yZ"
      },
      "execution_count": null,
      "outputs": []
    }
  ]
}